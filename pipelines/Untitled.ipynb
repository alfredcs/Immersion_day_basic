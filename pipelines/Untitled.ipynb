{
 "cells": [
  {
   "cell_type": "code",
   "execution_count": null,
   "id": "d90ae2df-1db5-444f-a0bf-4c0e624b2da8",
   "metadata": {},
   "outputs": [],
   "source": [
    "cm_res = sm_boto3.create_model(\n",
    "    ModelName=<model_name>,  \n",
    "    Containers=[{\"Image\": <image_uri>,},],\n",
    "    ExecutionRoleArn=role[\"Arn\"],\n",
    "    EnableNetworkIsolation=False,\n",
    ")"
   ]
  }
 ],
 "metadata": {
  "kernelspec": {
   "display_name": "Python 3 (ipykernel)",
   "language": "python",
   "name": "python3"
  },
  "language_info": {
   "codemirror_mode": {
    "name": "ipython",
    "version": 3
   },
   "file_extension": ".py",
   "mimetype": "text/x-python",
   "name": "python",
   "nbconvert_exporter": "python",
   "pygments_lexer": "ipython3",
   "version": "3.8.12"
  }
 },
 "nbformat": 4,
 "nbformat_minor": 5
}
