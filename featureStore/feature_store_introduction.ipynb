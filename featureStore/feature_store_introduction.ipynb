{
 "cells": [
  {
   "cell_type": "markdown",
   "metadata": {},
   "source": [
    "## Amazon SageMaker Feature Store: Introduction to Feature Store"
   ]
  },
  {
   "cell_type": "markdown",
   "metadata": {},
   "source": [
    "This notebook demonstrates how to get started with Feature Store, create feature groups, and ingest data into them. These feature groups are stored in your Feature Store.\n",
    "\n",
    "Feature groups are resources that contain metadata for all data stored in your Feature Store. A feature group is a logical grouping of features, defined in the feature store to describe records. A feature group’s definition is composed of a list of feature definitions, a record identifier name, and configurations for its online and offline store. \n",
    "\n",
    "### Overview\n",
    "1. Set up\n",
    "2. Creating a feature group\n",
    "3. Ingest data into a feature group\n",
    "\n",
    "### Prerequisites\n",
    "This notebook uses both `boto3` and Python SDK libraries, and the `Python 3 (Data Science)` kernel. This notebook works with Studio, Jupyter, and JupyterLab. \n",
    "\n",
    "#### Library dependencies:\n",
    "* `sagemaker>=2.100.0`\n",
    "* `numpy`\n",
    "* `pandas`\n",
    "\n",
    "#### Role requirements:\n",
    "**IMPORTANT**: You must attach the following policies to your execution role:\n",
    "* `AmazonS3FullAccess`\n",
    "* `AmazonSageMakerFeatureStoreAccess`"
   ]
  },
  {
   "cell_type": "markdown",
   "metadata": {},
   "source": [
    "![policy](images/feature-store-policy.png)"
   ]
  },
  {
   "cell_type": "markdown",
   "metadata": {},
   "source": [
    "### Set up"
   ]
  },
  {
   "cell_type": "code",
   "execution_count": 1,
   "metadata": {},
   "outputs": [
    {
     "name": "stdout",
     "output_type": "stream",
     "text": [
      "Looking in indexes: https://pypi.org/simple, https://pypi.ngc.nvidia.com\n",
      "Collecting sagemaker>=2.100.0\n",
      "  Downloading sagemaker-2.116.0.tar.gz (592 kB)\n",
      "\u001b[2K     \u001b[90m━━━━━━━━━━━━━━━━━━━━━━━━━━━━━━━━━━━━━━\u001b[0m \u001b[32m592.4/592.4 kB\u001b[0m \u001b[31m21.8 MB/s\u001b[0m eta \u001b[36m0:00:00\u001b[0m\n",
      "\u001b[?25h  Preparing metadata (setup.py) ... \u001b[?25ldone\n",
      "\u001b[?25hRequirement already satisfied: attrs<23,>=20.3.0 in /opt/data2/alfred/anaconda3/envs/aws/lib/python3.8/site-packages (from sagemaker>=2.100.0) (20.3.0)\n",
      "Requirement already satisfied: boto3<2.0,>=1.20.21 in /opt/data2/alfred/anaconda3/envs/aws/lib/python3.8/site-packages (from sagemaker>=2.100.0) (1.24.87)\n",
      "Requirement already satisfied: google-pasta in /opt/data2/alfred/anaconda3/envs/aws/lib/python3.8/site-packages (from sagemaker>=2.100.0) (0.2.0)\n",
      "Requirement already satisfied: numpy<2.0,>=1.9.0 in /opt/data2/alfred/anaconda3/envs/aws/lib/python3.8/site-packages (from sagemaker>=2.100.0) (1.20.3)\n",
      "Requirement already satisfied: protobuf<4.0,>=3.1 in /opt/data2/alfred/anaconda3/envs/aws/lib/python3.8/site-packages (from sagemaker>=2.100.0) (3.19.1)\n",
      "Requirement already satisfied: protobuf3-to-dict<1.0,>=0.1.5 in /opt/data2/alfred/anaconda3/envs/aws/lib/python3.8/site-packages (from sagemaker>=2.100.0) (0.1.5)\n",
      "Requirement already satisfied: smdebug_rulesconfig==1.0.1 in /opt/data2/alfred/anaconda3/envs/aws/lib/python3.8/site-packages (from sagemaker>=2.100.0) (1.0.1)\n",
      "Requirement already satisfied: importlib-metadata<5.0,>=1.4.0 in /opt/data2/alfred/anaconda3/envs/aws/lib/python3.8/site-packages (from sagemaker>=2.100.0) (4.12.0)\n",
      "Requirement already satisfied: packaging>=20.0 in /opt/data2/alfred/anaconda3/envs/aws/lib/python3.8/site-packages (from sagemaker>=2.100.0) (21.3)\n",
      "Requirement already satisfied: pandas in /opt/data2/alfred/anaconda3/envs/aws/lib/python3.8/site-packages (from sagemaker>=2.100.0) (1.4.2)\n",
      "Requirement already satisfied: pathos in /opt/data2/alfred/anaconda3/envs/aws/lib/python3.8/site-packages (from sagemaker>=2.100.0) (0.2.8)\n",
      "Requirement already satisfied: schema in /opt/data2/alfred/anaconda3/envs/aws/lib/python3.8/site-packages (from sagemaker>=2.100.0) (0.7.5)\n",
      "Requirement already satisfied: s3transfer<0.7.0,>=0.6.0 in /opt/data2/alfred/anaconda3/envs/aws/lib/python3.8/site-packages (from boto3<2.0,>=1.20.21->sagemaker>=2.100.0) (0.6.0)\n",
      "Requirement already satisfied: botocore<1.28.0,>=1.27.87 in /opt/data2/alfred/anaconda3/envs/aws/lib/python3.8/site-packages (from boto3<2.0,>=1.20.21->sagemaker>=2.100.0) (1.27.87)\n",
      "Requirement already satisfied: jmespath<2.0.0,>=0.7.1 in /opt/data2/alfred/anaconda3/envs/aws/lib/python3.8/site-packages (from boto3<2.0,>=1.20.21->sagemaker>=2.100.0) (0.10.0)\n",
      "Requirement already satisfied: zipp>=0.5 in /opt/data2/alfred/anaconda3/envs/aws/lib/python3.8/site-packages (from importlib-metadata<5.0,>=1.4.0->sagemaker>=2.100.0) (3.7.0)\n",
      "Requirement already satisfied: pyparsing!=3.0.5,>=2.0.2 in /opt/data2/alfred/anaconda3/envs/aws/lib/python3.8/site-packages (from packaging>=20.0->sagemaker>=2.100.0) (3.0.4)\n",
      "Requirement already satisfied: six in /opt/data2/alfred/anaconda3/envs/aws/lib/python3.8/site-packages (from protobuf3-to-dict<1.0,>=0.1.5->sagemaker>=2.100.0) (1.16.0)\n",
      "Requirement already satisfied: python-dateutil>=2.8.1 in /opt/data2/alfred/anaconda3/envs/aws/lib/python3.8/site-packages (from pandas->sagemaker>=2.100.0) (2.8.2)\n",
      "Requirement already satisfied: pytz>=2020.1 in /opt/data2/alfred/anaconda3/envs/aws/lib/python3.8/site-packages (from pandas->sagemaker>=2.100.0) (2021.3)\n",
      "Requirement already satisfied: pox>=0.3.0 in /opt/data2/alfred/anaconda3/envs/aws/lib/python3.8/site-packages (from pathos->sagemaker>=2.100.0) (0.3.0)\n",
      "Requirement already satisfied: ppft>=1.6.6.4 in /opt/data2/alfred/anaconda3/envs/aws/lib/python3.8/site-packages (from pathos->sagemaker>=2.100.0) (1.6.6.4)\n",
      "Requirement already satisfied: dill>=0.3.4 in /opt/data2/alfred/anaconda3/envs/aws/lib/python3.8/site-packages (from pathos->sagemaker>=2.100.0) (0.3.4)\n",
      "Requirement already satisfied: multiprocess>=0.70.12 in /opt/data2/alfred/anaconda3/envs/aws/lib/python3.8/site-packages (from pathos->sagemaker>=2.100.0) (0.70.12.2)\n",
      "Requirement already satisfied: contextlib2>=0.5.5 in /opt/data2/alfred/anaconda3/envs/aws/lib/python3.8/site-packages (from schema->sagemaker>=2.100.0) (21.6.0)\n",
      "Requirement already satisfied: urllib3<1.27,>=1.25.4 in /opt/data2/alfred/anaconda3/envs/aws/lib/python3.8/site-packages (from botocore<1.28.0,>=1.27.87->boto3<2.0,>=1.20.21->sagemaker>=2.100.0) (1.26.8)\n",
      "Building wheels for collected packages: sagemaker\n",
      "  Building wheel for sagemaker (setup.py) ... \u001b[?25ldone\n",
      "\u001b[?25h  Created wheel for sagemaker: filename=sagemaker-2.116.0-py2.py3-none-any.whl size=809070 sha256=6126108cab301b83cb253bf0bb96f5ecde7feb175d1ac59b8528877d5b7c02e8\n",
      "  Stored in directory: /tmp/pip-ephem-wheel-cache-lzztow7r/wheels/3e/cb/b1/5b13ff7b150aa151e4a11030a6c41b1e457c31a52ea1ef11b0\n",
      "Successfully built sagemaker\n",
      "Installing collected packages: sagemaker\n",
      "  Attempting uninstall: sagemaker\n",
      "    Found existing installation: sagemaker 2.48.1\n",
      "    Uninstalling sagemaker-2.48.1:\n",
      "      Successfully uninstalled sagemaker-2.48.1\n",
      "Successfully installed sagemaker-2.116.0\n",
      "\n",
      "\u001b[1m[\u001b[0m\u001b[34;49mnotice\u001b[0m\u001b[1;39;49m]\u001b[0m\u001b[39;49m A new release of pip available: \u001b[0m\u001b[31;49m22.2.2\u001b[0m\u001b[39;49m -> \u001b[0m\u001b[32;49m22.3.1\u001b[0m\n",
      "\u001b[1m[\u001b[0m\u001b[34;49mnotice\u001b[0m\u001b[1;39;49m]\u001b[0m\u001b[39;49m To update, run: \u001b[0m\u001b[32;49mpip install --upgrade pip\u001b[0m\n",
      "Looking in indexes: https://pypi.org/simple, https://pypi.ngc.nvidia.com\n",
      "Requirement already satisfied: boto3>=1.24.20 in /opt/data2/alfred/anaconda3/envs/aws/lib/python3.8/site-packages (1.24.87)\n",
      "Requirement already satisfied: s3transfer<0.7.0,>=0.6.0 in /opt/data2/alfred/anaconda3/envs/aws/lib/python3.8/site-packages (from boto3>=1.24.20) (0.6.0)\n",
      "Requirement already satisfied: botocore<1.28.0,>=1.27.87 in /opt/data2/alfred/anaconda3/envs/aws/lib/python3.8/site-packages (from boto3>=1.24.20) (1.27.87)\n",
      "Requirement already satisfied: jmespath<2.0.0,>=0.7.1 in /opt/data2/alfred/anaconda3/envs/aws/lib/python3.8/site-packages (from boto3>=1.24.20) (0.10.0)\n",
      "Requirement already satisfied: urllib3<1.27,>=1.25.4 in /opt/data2/alfred/anaconda3/envs/aws/lib/python3.8/site-packages (from botocore<1.28.0,>=1.27.87->boto3>=1.24.20) (1.26.8)\n",
      "Requirement already satisfied: python-dateutil<3.0.0,>=2.1 in /opt/data2/alfred/anaconda3/envs/aws/lib/python3.8/site-packages (from botocore<1.28.0,>=1.27.87->boto3>=1.24.20) (2.8.2)\n",
      "Requirement already satisfied: six>=1.5 in /opt/data2/alfred/anaconda3/envs/aws/lib/python3.8/site-packages (from python-dateutil<3.0.0,>=2.1->botocore<1.28.0,>=1.27.87->boto3>=1.24.20) (1.16.0)\n",
      "\n",
      "\u001b[1m[\u001b[0m\u001b[34;49mnotice\u001b[0m\u001b[1;39;49m]\u001b[0m\u001b[39;49m A new release of pip available: \u001b[0m\u001b[31;49m22.2.2\u001b[0m\u001b[39;49m -> \u001b[0m\u001b[32;49m22.3.1\u001b[0m\n",
      "\u001b[1m[\u001b[0m\u001b[34;49mnotice\u001b[0m\u001b[1;39;49m]\u001b[0m\u001b[39;49m To update, run: \u001b[0m\u001b[32;49mpip install --upgrade pip\u001b[0m\n"
     ]
    }
   ],
   "source": [
    "# SageMaker Python SDK version 2.100.0 is required\n",
    "# boto3 version 1.24.20 is required\n",
    "import sagemaker\n",
    "import boto3\n",
    "import sys\n",
    "\n",
    "!pip install 'sagemaker>=2.100.0'\n",
    "!pip install 'boto3>=1.24.20'"
   ]
  },
  {
   "cell_type": "code",
   "execution_count": 2,
   "metadata": {},
   "outputs": [],
   "source": [
    "import pandas as pd\n",
    "import numpy as np\n",
    "import io\n",
    "from sagemaker.session import Session\n",
    "from sagemaker import get_execution_role\n",
    "\n",
    "prefix = \"sagemaker-featurestore-introduction\"\n",
    "#role = get_execution_role()\n",
    "role = 'arn:aws:iam::976939723775:role/service-role/AmazonSageMaker-ExecutionRole-20210317T133000'\n",
    "sagemaker_session = sagemaker.Session()\n",
    "region = sagemaker_session.boto_region_name\n",
    "s3_bucket_name = sagemaker_session.default_bucket()"
   ]
  },
  {
   "cell_type": "markdown",
   "metadata": {},
   "source": [
    "### Inspect your data\n",
    "In this notebook example we ingest synthetic data. We read from `./data/feature_store_introduction_customer.csv` and `./data/feature_store_introduction_orders.csv`."
   ]
  },
  {
   "cell_type": "code",
   "execution_count": 3,
   "metadata": {},
   "outputs": [],
   "source": [
    "customer_data = pd.read_csv(\"data/feature_store_introduction_customer.csv\")\n",
    "orders_data = pd.read_csv(\"data/feature_store_introduction_orders.csv\")"
   ]
  },
  {
   "cell_type": "code",
   "execution_count": 4,
   "metadata": {},
   "outputs": [
    {
     "data": {
      "text/html": [
       "<div>\n",
       "<style scoped>\n",
       "    .dataframe tbody tr th:only-of-type {\n",
       "        vertical-align: middle;\n",
       "    }\n",
       "\n",
       "    .dataframe tbody tr th {\n",
       "        vertical-align: top;\n",
       "    }\n",
       "\n",
       "    .dataframe thead th {\n",
       "        text-align: right;\n",
       "    }\n",
       "</style>\n",
       "<table border=\"1\" class=\"dataframe\">\n",
       "  <thead>\n",
       "    <tr style=\"text-align: right;\">\n",
       "      <th></th>\n",
       "      <th>customer_id</th>\n",
       "      <th>city_code</th>\n",
       "      <th>state_code</th>\n",
       "      <th>country_code</th>\n",
       "    </tr>\n",
       "  </thead>\n",
       "  <tbody>\n",
       "    <tr>\n",
       "      <th>0</th>\n",
       "      <td>573291</td>\n",
       "      <td>1</td>\n",
       "      <td>49</td>\n",
       "      <td>2</td>\n",
       "    </tr>\n",
       "    <tr>\n",
       "      <th>1</th>\n",
       "      <td>109382</td>\n",
       "      <td>2</td>\n",
       "      <td>40</td>\n",
       "      <td>2</td>\n",
       "    </tr>\n",
       "    <tr>\n",
       "      <th>2</th>\n",
       "      <td>828400</td>\n",
       "      <td>3</td>\n",
       "      <td>31</td>\n",
       "      <td>2</td>\n",
       "    </tr>\n",
       "    <tr>\n",
       "      <th>3</th>\n",
       "      <td>124013</td>\n",
       "      <td>4</td>\n",
       "      <td>5</td>\n",
       "      <td>2</td>\n",
       "    </tr>\n",
       "  </tbody>\n",
       "</table>\n",
       "</div>"
      ],
      "text/plain": [
       "   customer_id  city_code  state_code  country_code\n",
       "0       573291          1          49             2\n",
       "1       109382          2          40             2\n",
       "2       828400          3          31             2\n",
       "3       124013          4           5             2"
      ]
     },
     "execution_count": 4,
     "metadata": {},
     "output_type": "execute_result"
    }
   ],
   "source": [
    "customer_data.head()"
   ]
  },
  {
   "cell_type": "code",
   "execution_count": 5,
   "metadata": {},
   "outputs": [
    {
     "data": {
      "text/html": [
       "<div>\n",
       "<style scoped>\n",
       "    .dataframe tbody tr th:only-of-type {\n",
       "        vertical-align: middle;\n",
       "    }\n",
       "\n",
       "    .dataframe tbody tr th {\n",
       "        vertical-align: top;\n",
       "    }\n",
       "\n",
       "    .dataframe thead th {\n",
       "        text-align: right;\n",
       "    }\n",
       "</style>\n",
       "<table border=\"1\" class=\"dataframe\">\n",
       "  <thead>\n",
       "    <tr style=\"text-align: right;\">\n",
       "      <th></th>\n",
       "      <th>customer_id</th>\n",
       "      <th>order_id</th>\n",
       "      <th>order_status</th>\n",
       "      <th>store_id</th>\n",
       "    </tr>\n",
       "  </thead>\n",
       "  <tbody>\n",
       "    <tr>\n",
       "      <th>0</th>\n",
       "      <td>573291</td>\n",
       "      <td>4132</td>\n",
       "      <td>1</td>\n",
       "      <td>303</td>\n",
       "    </tr>\n",
       "    <tr>\n",
       "      <th>1</th>\n",
       "      <td>109382</td>\n",
       "      <td>5724</td>\n",
       "      <td>0</td>\n",
       "      <td>201</td>\n",
       "    </tr>\n",
       "    <tr>\n",
       "      <th>2</th>\n",
       "      <td>828400</td>\n",
       "      <td>1942</td>\n",
       "      <td>0</td>\n",
       "      <td>431</td>\n",
       "    </tr>\n",
       "    <tr>\n",
       "      <th>3</th>\n",
       "      <td>124013</td>\n",
       "      <td>6782</td>\n",
       "      <td>1</td>\n",
       "      <td>213</td>\n",
       "    </tr>\n",
       "  </tbody>\n",
       "</table>\n",
       "</div>"
      ],
      "text/plain": [
       "   customer_id  order_id  order_status  store_id\n",
       "0       573291      4132             1       303\n",
       "1       109382      5724             0       201\n",
       "2       828400      1942             0       431\n",
       "3       124013      6782             1       213"
      ]
     },
     "execution_count": 5,
     "metadata": {},
     "output_type": "execute_result"
    }
   ],
   "source": [
    "orders_data.head()"
   ]
  },
  {
   "cell_type": "markdown",
   "metadata": {},
   "source": [
    "Below is an illustration on the steps the data goes through before it is ingested into a Feature Store. In this notebook, we illustrate the use-case where you have data from multiple sources and want to store them independently in a feature store. Our example considers data from a data warehouse (customer data), and data from a real-time streaming service (order data). "
   ]
  },
  {
   "cell_type": "markdown",
   "metadata": {},
   "source": [
    "![data flow](images/feature_store_data_ingest.svg)"
   ]
  },
  {
   "cell_type": "markdown",
   "metadata": {},
   "source": [
    "### Create a feature group\n",
    "\n",
    "We first start by creating feature group names for customer_data and orders_data. Following this, we create two Feature Groups, one for `customer_data` and another for `orders_data`"
   ]
  },
  {
   "cell_type": "code",
   "execution_count": 6,
   "metadata": {},
   "outputs": [],
   "source": [
    "from time import gmtime, strftime, sleep\n",
    "\n",
    "customers_feature_group_name = \"customers-feature-group-\" + strftime(\"%d-%H-%M-%S\", gmtime())\n",
    "orders_feature_group_name = \"orders-feature-group-\" + strftime(\"%d-%H-%M-%S\", gmtime())"
   ]
  },
  {
   "cell_type": "markdown",
   "metadata": {},
   "source": [
    "Instantiate a FeatureGroup object for customers_data and orders_data. "
   ]
  },
  {
   "cell_type": "code",
   "execution_count": 7,
   "metadata": {},
   "outputs": [],
   "source": [
    "from sagemaker.feature_store.feature_group import FeatureGroup\n",
    "\n",
    "customers_feature_group = FeatureGroup(\n",
    "    name=customers_feature_group_name, sagemaker_session=sagemaker_session\n",
    ")\n",
    "orders_feature_group = FeatureGroup(\n",
    "    name=orders_feature_group_name, sagemaker_session=sagemaker_session\n",
    ")"
   ]
  },
  {
   "cell_type": "code",
   "execution_count": 8,
   "metadata": {},
   "outputs": [],
   "source": [
    "import time\n",
    "\n",
    "current_time_sec = int(round(time.time()))\n",
    "\n",
    "record_identifier_feature_name = \"customer_id\""
   ]
  },
  {
   "cell_type": "markdown",
   "metadata": {},
   "source": [
    "Append `EventTime` feature to your data frame. This parameter is required, and time stamps each data point."
   ]
  },
  {
   "cell_type": "code",
   "execution_count": 9,
   "metadata": {},
   "outputs": [],
   "source": [
    "customer_data[\"EventTime\"] = pd.Series([current_time_sec] * len(customer_data), dtype=\"float64\")\n",
    "orders_data[\"EventTime\"] = pd.Series([current_time_sec] * len(orders_data), dtype=\"float64\")"
   ]
  },
  {
   "cell_type": "markdown",
   "metadata": {},
   "source": [
    "Load feature definitions to your feature group. "
   ]
  },
  {
   "cell_type": "code",
   "execution_count": 10,
   "metadata": {},
   "outputs": [
    {
     "data": {
      "text/plain": [
       "[FeatureDefinition(feature_name='customer_id', feature_type=<FeatureTypeEnum.INTEGRAL: 'Integral'>),\n",
       " FeatureDefinition(feature_name='order_id', feature_type=<FeatureTypeEnum.INTEGRAL: 'Integral'>),\n",
       " FeatureDefinition(feature_name='order_status', feature_type=<FeatureTypeEnum.INTEGRAL: 'Integral'>),\n",
       " FeatureDefinition(feature_name='store_id', feature_type=<FeatureTypeEnum.INTEGRAL: 'Integral'>),\n",
       " FeatureDefinition(feature_name='EventTime', feature_type=<FeatureTypeEnum.FRACTIONAL: 'Fractional'>)]"
      ]
     },
     "execution_count": 10,
     "metadata": {},
     "output_type": "execute_result"
    }
   ],
   "source": [
    "customers_feature_group.load_feature_definitions(data_frame=customer_data)\n",
    "orders_feature_group.load_feature_definitions(data_frame=orders_data)"
   ]
  },
  {
   "cell_type": "markdown",
   "metadata": {},
   "source": [
    "Below we call create to create two feature groups, customers_feature_group and orders_feature_group respectively"
   ]
  },
  {
   "cell_type": "code",
   "execution_count": 11,
   "metadata": {},
   "outputs": [
    {
     "data": {
      "text/plain": [
       "{'FeatureGroupArn': 'arn:aws:sagemaker:us-west-2:976939723775:feature-group/orders-feature-group-11-00-26-53',\n",
       " 'ResponseMetadata': {'RequestId': '81f00611-f5ef-4197-ad8a-0e0f46f49275',\n",
       "  'HTTPStatusCode': 200,\n",
       "  'HTTPHeaders': {'x-amzn-requestid': '81f00611-f5ef-4197-ad8a-0e0f46f49275',\n",
       "   'content-type': 'application/x-amz-json-1.1',\n",
       "   'content-length': '109',\n",
       "   'date': 'Fri, 11 Nov 2022 00:27:08 GMT'},\n",
       "  'RetryAttempts': 3}}"
      ]
     },
     "execution_count": 11,
     "metadata": {},
     "output_type": "execute_result"
    }
   ],
   "source": [
    "customers_feature_group.create(\n",
    "    s3_uri=f\"s3://{s3_bucket_name}/{prefix}\",\n",
    "    record_identifier_name=record_identifier_feature_name,\n",
    "    event_time_feature_name=\"EventTime\",\n",
    "    role_arn=role,\n",
    "    enable_online_store=True,\n",
    ")\n",
    "\n",
    "orders_feature_group.create(\n",
    "    s3_uri=f\"s3://{s3_bucket_name}/{prefix}\",\n",
    "    record_identifier_name=record_identifier_feature_name,\n",
    "    event_time_feature_name=\"EventTime\",\n",
    "    role_arn=role,\n",
    "    enable_online_store=True,\n",
    ")"
   ]
  },
  {
   "cell_type": "markdown",
   "metadata": {},
   "source": [
    "To confirm that your FeatureGroup has been created we use `DescribeFeatureGroup` and `ListFeatureGroups` APIs to display the created FeatureGroup."
   ]
  },
  {
   "cell_type": "code",
   "execution_count": 12,
   "metadata": {},
   "outputs": [
    {
     "data": {
      "text/plain": [
       "{'FeatureGroupArn': 'arn:aws:sagemaker:us-west-2:976939723775:feature-group/customers-feature-group-11-00-26-53',\n",
       " 'FeatureGroupName': 'customers-feature-group-11-00-26-53',\n",
       " 'RecordIdentifierFeatureName': 'customer_id',\n",
       " 'EventTimeFeatureName': 'EventTime',\n",
       " 'FeatureDefinitions': [{'FeatureName': 'customer_id',\n",
       "   'FeatureType': 'Integral'},\n",
       "  {'FeatureName': 'city_code', 'FeatureType': 'Integral'},\n",
       "  {'FeatureName': 'state_code', 'FeatureType': 'Integral'},\n",
       "  {'FeatureName': 'country_code', 'FeatureType': 'Integral'},\n",
       "  {'FeatureName': 'EventTime', 'FeatureType': 'Fractional'}],\n",
       " 'CreationTime': datetime.datetime(2022, 11, 11, 0, 27, 3, 601000, tzinfo=tzlocal()),\n",
       " 'OnlineStoreConfig': {'EnableOnlineStore': True},\n",
       " 'OfflineStoreConfig': {'S3StorageConfig': {'S3Uri': 's3://sagemaker-us-west-2-976939723775/sagemaker-featurestore-introduction',\n",
       "   'ResolvedOutputS3Uri': 's3://sagemaker-us-west-2-976939723775/sagemaker-featurestore-introduction/976939723775/sagemaker/us-west-2/offline-store/customers-feature-group-11-00-26-53-1668126423/data'},\n",
       "  'DisableGlueTableCreation': False},\n",
       " 'RoleArn': 'arn:aws:iam::976939723775:role/service-role/AmazonSageMaker-ExecutionRole-20210317T133000',\n",
       " 'FeatureGroupStatus': 'Creating',\n",
       " 'ResponseMetadata': {'RequestId': '792ff40a-853d-41ae-957c-3314a6963fcd',\n",
       "  'HTTPStatusCode': 200,\n",
       "  'HTTPHeaders': {'x-amzn-requestid': '792ff40a-853d-41ae-957c-3314a6963fcd',\n",
       "   'content-type': 'application/x-amz-json-1.1',\n",
       "   'content-length': '1178',\n",
       "   'date': 'Fri, 11 Nov 2022 00:27:08 GMT'},\n",
       "  'RetryAttempts': 0}}"
      ]
     },
     "execution_count": 12,
     "metadata": {},
     "output_type": "execute_result"
    }
   ],
   "source": [
    "customers_feature_group.describe()"
   ]
  },
  {
   "cell_type": "code",
   "execution_count": 13,
   "metadata": {},
   "outputs": [
    {
     "data": {
      "text/plain": [
       "{'FeatureGroupArn': 'arn:aws:sagemaker:us-west-2:976939723775:feature-group/orders-feature-group-11-00-26-53',\n",
       " 'FeatureGroupName': 'orders-feature-group-11-00-26-53',\n",
       " 'RecordIdentifierFeatureName': 'customer_id',\n",
       " 'EventTimeFeatureName': 'EventTime',\n",
       " 'FeatureDefinitions': [{'FeatureName': 'customer_id',\n",
       "   'FeatureType': 'Integral'},\n",
       "  {'FeatureName': 'order_id', 'FeatureType': 'Integral'},\n",
       "  {'FeatureName': 'order_status', 'FeatureType': 'Integral'},\n",
       "  {'FeatureName': 'store_id', 'FeatureType': 'Integral'},\n",
       "  {'FeatureName': 'EventTime', 'FeatureType': 'Fractional'}],\n",
       " 'CreationTime': datetime.datetime(2022, 11, 11, 0, 27, 8, 122000, tzinfo=tzlocal()),\n",
       " 'OnlineStoreConfig': {'EnableOnlineStore': True},\n",
       " 'OfflineStoreConfig': {'S3StorageConfig': {'S3Uri': 's3://sagemaker-us-west-2-976939723775/sagemaker-featurestore-introduction',\n",
       "   'ResolvedOutputS3Uri': 's3://sagemaker-us-west-2-976939723775/sagemaker-featurestore-introduction/976939723775/sagemaker/us-west-2/offline-store/orders-feature-group-11-00-26-53-1668126428/data'},\n",
       "  'DisableGlueTableCreation': False},\n",
       " 'RoleArn': 'arn:aws:iam::976939723775:role/service-role/AmazonSageMaker-ExecutionRole-20210317T133000',\n",
       " 'FeatureGroupStatus': 'Creating',\n",
       " 'ResponseMetadata': {'RequestId': '7ea07a5d-6844-493b-a5a7-44156e8a1d53',\n",
       "  'HTTPStatusCode': 200,\n",
       "  'HTTPHeaders': {'x-amzn-requestid': '7ea07a5d-6844-493b-a5a7-44156e8a1d53',\n",
       "   'content-type': 'application/x-amz-json-1.1',\n",
       "   'content-length': '1166',\n",
       "   'date': 'Fri, 11 Nov 2022 00:27:16 GMT'},\n",
       "  'RetryAttempts': 0}}"
      ]
     },
     "execution_count": 13,
     "metadata": {},
     "output_type": "execute_result"
    }
   ],
   "source": [
    "orders_feature_group.describe()"
   ]
  },
  {
   "cell_type": "code",
   "execution_count": 14,
   "metadata": {},
   "outputs": [
    {
     "data": {
      "text/plain": [
       "{'FeatureGroupSummaries': [{'FeatureGroupName': 'transaction-feature-group-11-00-18-03',\n",
       "   'FeatureGroupArn': 'arn:aws:sagemaker:us-west-2:976939723775:feature-group/transaction-feature-group-11-00-18-03',\n",
       "   'CreationTime': datetime.datetime(2022, 11, 11, 0, 18, 17, 955000, tzinfo=tzlocal()),\n",
       "   'FeatureGroupStatus': 'Created'},\n",
       "  {'FeatureGroupName': 'orders-feature-group-11-00-26-53',\n",
       "   'FeatureGroupArn': 'arn:aws:sagemaker:us-west-2:976939723775:feature-group/orders-feature-group-11-00-26-53',\n",
       "   'CreationTime': datetime.datetime(2022, 11, 11, 0, 27, 8, 122000, tzinfo=tzlocal()),\n",
       "   'FeatureGroupStatus': 'Creating'},\n",
       "  {'FeatureGroupName': 'identity-feature-group-11-00-18-03',\n",
       "   'FeatureGroupArn': 'arn:aws:sagemaker:us-west-2:976939723775:feature-group/identity-feature-group-11-00-18-03',\n",
       "   'CreationTime': datetime.datetime(2022, 11, 11, 0, 18, 16, 100000, tzinfo=tzlocal()),\n",
       "   'FeatureGroupStatus': 'Created'},\n",
       "  {'FeatureGroupName': 'customers-feature-group-11-00-26-53',\n",
       "   'FeatureGroupArn': 'arn:aws:sagemaker:us-west-2:976939723775:feature-group/customers-feature-group-11-00-26-53',\n",
       "   'CreationTime': datetime.datetime(2022, 11, 11, 0, 27, 3, 601000, tzinfo=tzlocal()),\n",
       "   'FeatureGroupStatus': 'Creating'},\n",
       "  {'FeatureGroupName': 'alfab3-products-11-29-20-15',\n",
       "   'FeatureGroupArn': 'arn:aws:sagemaker:us-west-2:976939723775:feature-group/alfab3-products-11-29-20-15',\n",
       "   'CreationTime': datetime.datetime(2021, 11, 29, 20, 19, 57, 957000, tzinfo=tzlocal()),\n",
       "   'FeatureGroupStatus': 'Created',\n",
       "   'OfflineStoreStatus': {'Status': 'Active'}},\n",
       "  {'FeatureGroupName': 'alfab3-products-01-11-21-31',\n",
       "   'FeatureGroupArn': 'arn:aws:sagemaker:us-west-2:976939723775:feature-group/alfab3-products-01-11-21-31',\n",
       "   'CreationTime': datetime.datetime(2022, 1, 11, 21, 42, 29, 556000, tzinfo=tzlocal()),\n",
       "   'FeatureGroupStatus': 'Created',\n",
       "   'OfflineStoreStatus': {'Status': 'Active'}},\n",
       "  {'FeatureGroupName': 'alfab3-orders-11-29-20-15',\n",
       "   'FeatureGroupArn': 'arn:aws:sagemaker:us-west-2:976939723775:feature-group/alfab3-orders-11-29-20-15',\n",
       "   'CreationTime': datetime.datetime(2021, 12, 23, 6, 44, 57, 678000, tzinfo=tzlocal()),\n",
       "   'FeatureGroupStatus': 'Created',\n",
       "   'OfflineStoreStatus': {'Status': 'Active'}},\n",
       "  {'FeatureGroupName': 'alfab3-orders-01-11-21-31',\n",
       "   'FeatureGroupArn': 'arn:aws:sagemaker:us-west-2:976939723775:feature-group/alfab3-orders-01-11-21-31',\n",
       "   'CreationTime': datetime.datetime(2022, 1, 11, 21, 43, 1, 142000, tzinfo=tzlocal()),\n",
       "   'FeatureGroupStatus': 'Created',\n",
       "   'OfflineStoreStatus': {'Status': 'Active'}},\n",
       "  {'FeatureGroupName': 'alfab3-online-orders-12-20-21-14',\n",
       "   'FeatureGroupArn': 'arn:aws:sagemaker:us-west-2:976939723775:feature-group/alfab3-online-orders-12-20-21-14',\n",
       "   'CreationTime': datetime.datetime(2021, 12, 20, 21, 18, 30, 312000, tzinfo=tzlocal()),\n",
       "   'FeatureGroupStatus': 'Created',\n",
       "   'OfflineStoreStatus': {'Status': 'Active'}},\n",
       "  {'FeatureGroupName': 'alfab3-customers-11-29-20-15',\n",
       "   'FeatureGroupArn': 'arn:aws:sagemaker:us-west-2:976939723775:feature-group/alfab3-customers-11-29-20-15',\n",
       "   'CreationTime': datetime.datetime(2021, 11, 29, 20, 18, 3, 774000, tzinfo=tzlocal()),\n",
       "   'FeatureGroupStatus': 'Created',\n",
       "   'OfflineStoreStatus': {'Status': 'Active'}}],\n",
       " 'NextToken': 'cIws2QhTXUIa8bi8VL/KaqEtNasvtERN+ezTFo6xKCaND0qEX8VGaANfFaShIfuVGGUQKwbEPyrjnnPMq7DRRceTwNyt899SVQg0O50+Dwzl4lLb/Ta9487TWc8qRbIFWDPIAMeN37VtVft0mYCmAZnuAwelWqIKXzKjEgfvwKGBlVUf14Simz1/azJ7JOx1LHcsy9h96WdwzJYDDq1x5f7vykKQCDh7nyv6+S0qW5dJsvkoqgrZK6efr47vwuoCSLrlzHF3Vm64UjijwkmqScIQFyXcwlNqVOC8/s3LAoXq+3BfvT7KnLyWvHgP7pxuQja94zAzTXKMfBPghugPddUqw76+LleFESIYN0k0JxV49mgMVTd6+w4v7BLvkwiJB9zY/pd4WVOzqfj2jQhKwCu/G8dCKFJfgpteT8qTpsTXwsqdhr3Azz/tU1vZ0Lusai/Z4Zbh6L8dMSP6kNySS9Jnfkdg9M4SL4Wv9R8NvqvRHMSLGa0UgFFngS6ulsRdOhVaqmRqyalOKNRP6vbis3RH1xyzNMGIEEarYDtrVzKKoJrwzfVDdzg=',\n",
       " 'ResponseMetadata': {'RequestId': '6dcae17c-d03a-4319-92ea-20b67cfc0e3f',\n",
       "  'HTTPStatusCode': 200,\n",
       "  'HTTPHeaders': {'x-amzn-requestid': '6dcae17c-d03a-4319-92ea-20b67cfc0e3f',\n",
       "   'content-type': 'application/x-amz-json-1.1',\n",
       "   'content-length': '3090',\n",
       "   'date': 'Fri, 11 Nov 2022 00:27:21 GMT'},\n",
       "  'RetryAttempts': 0}}"
      ]
     },
     "execution_count": 14,
     "metadata": {},
     "output_type": "execute_result"
    }
   ],
   "source": [
    "sagemaker_session.boto_session.client(\n",
    "    \"sagemaker\", region_name=region\n",
    ").list_feature_groups()  # We use the boto client to list FeatureGroups"
   ]
  },
  {
   "cell_type": "code",
   "execution_count": 15,
   "metadata": {},
   "outputs": [
    {
     "name": "stdout",
     "output_type": "stream",
     "text": [
      "FeatureGroup customers-feature-group-11-00-26-53 successfully created.\n",
      "FeatureGroup orders-feature-group-11-00-26-53 successfully created.\n"
     ]
    }
   ],
   "source": [
    "def check_feature_group_status(feature_group):\n",
    "    status = feature_group.describe().get(\"FeatureGroupStatus\")\n",
    "    while status == \"Creating\":\n",
    "        print(\"Waiting for Feature Group to be Created\")\n",
    "        time.sleep(5)\n",
    "        status = feature_group.describe().get(\"FeatureGroupStatus\")\n",
    "    print(f\"FeatureGroup {feature_group.name} successfully created.\")\n",
    "\n",
    "\n",
    "check_feature_group_status(customers_feature_group)\n",
    "check_feature_group_status(orders_feature_group)"
   ]
  },
  {
   "cell_type": "markdown",
   "metadata": {},
   "source": [
    "### Add metadata to a feature\n",
    "\n",
    "We can add searchable metadata fields to FeatureGroup features by using the `UpdateFeatureMetadata` API. The currently supported metadata fields are `description` and `parameters`."
   ]
  },
  {
   "cell_type": "code",
   "execution_count": 16,
   "metadata": {},
   "outputs": [
    {
     "ename": "AttributeError",
     "evalue": "'Session' object has no attribute 'update_feature_metadata'",
     "output_type": "error",
     "traceback": [
      "\u001b[0;31m---------------------------------------------------------------------------\u001b[0m",
      "\u001b[0;31mAttributeError\u001b[0m                            Traceback (most recent call last)",
      "\u001b[0;32m<ipython-input-16-9a842ceaa32c>\u001b[0m in \u001b[0;36m<module>\u001b[0;34m\u001b[0m\n\u001b[1;32m      1\u001b[0m \u001b[0;32mfrom\u001b[0m \u001b[0msagemaker\u001b[0m\u001b[0;34m.\u001b[0m\u001b[0mfeature_store\u001b[0m\u001b[0;34m.\u001b[0m\u001b[0minputs\u001b[0m \u001b[0;32mimport\u001b[0m \u001b[0mFeatureParameter\u001b[0m\u001b[0;34m\u001b[0m\u001b[0;34m\u001b[0m\u001b[0m\n\u001b[1;32m      2\u001b[0m \u001b[0;34m\u001b[0m\u001b[0m\n\u001b[0;32m----> 3\u001b[0;31m customers_feature_group.update_feature_metadata(\n\u001b[0m\u001b[1;32m      4\u001b[0m     \u001b[0mfeature_name\u001b[0m\u001b[0;34m=\u001b[0m\u001b[0;34m\"customer_id\"\u001b[0m\u001b[0;34m,\u001b[0m\u001b[0;34m\u001b[0m\u001b[0;34m\u001b[0m\u001b[0m\n\u001b[1;32m      5\u001b[0m     \u001b[0mdescription\u001b[0m\u001b[0;34m=\u001b[0m\u001b[0;34m\"The ID of a customer. It is also used in orders_feature_group.\"\u001b[0m\u001b[0;34m,\u001b[0m\u001b[0;34m\u001b[0m\u001b[0;34m\u001b[0m\u001b[0m\n",
      "\u001b[0;32m~/anaconda3/envs/aws/lib/python3.8/site-packages/sagemaker/feature_store/feature_group.py\u001b[0m in \u001b[0;36mupdate_feature_metadata\u001b[0;34m(self, feature_name, description, parameter_additions, parameter_removals)\u001b[0m\n\u001b[1;32m    578\u001b[0m             \u001b[0mResponse\u001b[0m \u001b[0mdict\u001b[0m \u001b[0;32mfrom\u001b[0m \u001b[0mservice\u001b[0m\u001b[0;34m.\u001b[0m\u001b[0;34m\u001b[0m\u001b[0;34m\u001b[0m\u001b[0m\n\u001b[1;32m    579\u001b[0m         \"\"\"\n\u001b[0;32m--> 580\u001b[0;31m         return self.sagemaker_session.update_feature_metadata(\n\u001b[0m\u001b[1;32m    581\u001b[0m             \u001b[0mfeature_group_name\u001b[0m\u001b[0;34m=\u001b[0m\u001b[0mself\u001b[0m\u001b[0;34m.\u001b[0m\u001b[0mname\u001b[0m\u001b[0;34m,\u001b[0m\u001b[0;34m\u001b[0m\u001b[0;34m\u001b[0m\u001b[0m\n\u001b[1;32m    582\u001b[0m             \u001b[0mfeature_name\u001b[0m\u001b[0;34m=\u001b[0m\u001b[0mfeature_name\u001b[0m\u001b[0;34m,\u001b[0m\u001b[0;34m\u001b[0m\u001b[0;34m\u001b[0m\u001b[0m\n",
      "\u001b[0;31mAttributeError\u001b[0m: 'Session' object has no attribute 'update_feature_metadata'"
     ]
    }
   ],
   "source": [
    "from sagemaker.feature_store.inputs import FeatureParameter\n",
    "\n",
    "customers_feature_group.update_feature_metadata(\n",
    "    feature_name=\"customer_id\",\n",
    "    description=\"The ID of a customer. It is also used in orders_feature_group.\",\n",
    "    parameter_additions=[FeatureParameter(\"idType\", \"primaryKey\")],\n",
    ")"
   ]
  },
  {
   "cell_type": "markdown",
   "metadata": {},
   "source": [
    "To view feature metadata, we can use `DescribeFeatureMetadata` to display that feature."
   ]
  },
  {
   "cell_type": "code",
   "execution_count": null,
   "metadata": {},
   "outputs": [],
   "source": [
    "customers_feature_group.describe_feature_metadata(feature_name=\"customer_id\")"
   ]
  },
  {
   "cell_type": "markdown",
   "metadata": {},
   "source": [
    "Feature metadata fields are searchable. We use `search` API to find features with metadata that matches some search criteria."
   ]
  },
  {
   "cell_type": "code",
   "execution_count": null,
   "metadata": {},
   "outputs": [],
   "source": [
    "sagemaker_session.boto_session.client(\"sagemaker\", region_name=region).search(\n",
    "    Resource=\"FeatureMetadata\",\n",
    "    SearchExpression={\n",
    "        \"Filters\": [\n",
    "            {\n",
    "                \"Name\": \"FeatureGroupName\",\n",
    "                \"Operator\": \"Contains\",\n",
    "                \"Value\": \"customers-feature-group-\",\n",
    "            },\n",
    "            {\"Name\": \"Parameters.idType\", \"Operator\": \"Equals\", \"Value\": \"primaryKey\"},\n",
    "        ]\n",
    "    },\n",
    ")  # We use the boto client to search"
   ]
  },
  {
   "cell_type": "markdown",
   "metadata": {},
   "source": [
    "### Ingest data into a feature group\n",
    "\n",
    "We can put data into the FeatureGroup by using the `PutRecord` API. It will take < 1 minute to ingest data."
   ]
  },
  {
   "cell_type": "code",
   "execution_count": null,
   "metadata": {},
   "outputs": [],
   "source": [
    "customers_feature_group.ingest(data_frame=customer_data, max_workers=3, wait=True)"
   ]
  },
  {
   "cell_type": "code",
   "execution_count": null,
   "metadata": {},
   "outputs": [],
   "source": [
    "orders_feature_group.ingest(data_frame=orders_data, max_workers=3, wait=True)"
   ]
  },
  {
   "cell_type": "markdown",
   "metadata": {},
   "source": [
    "Using an arbitrary customer record ID, 573291 we use `get_record` to check that the data has been ingested into the feature group."
   ]
  },
  {
   "cell_type": "code",
   "execution_count": null,
   "metadata": {},
   "outputs": [],
   "source": [
    "customer_id = 573291\n",
    "sample_record = sagemaker_session.boto_session.client(\n",
    "    \"sagemaker-featurestore-runtime\", region_name=region\n",
    ").get_record(\n",
    "    FeatureGroupName=customers_feature_group_name, RecordIdentifierValueAsString=str(customer_id)\n",
    ")"
   ]
  },
  {
   "cell_type": "code",
   "execution_count": null,
   "metadata": {},
   "outputs": [],
   "source": [
    "sample_record"
   ]
  },
  {
   "cell_type": "markdown",
   "metadata": {},
   "source": [
    "We use `batch_get_record` to check that all data has been ingested into two feature groups by providing customer IDs."
   ]
  },
  {
   "cell_type": "code",
   "execution_count": null,
   "metadata": {},
   "outputs": [],
   "source": [
    "all_records = sagemaker_session.boto_session.client(\n",
    "    \"sagemaker-featurestore-runtime\", region_name=region\n",
    ").batch_get_record(\n",
    "    Identifiers=[\n",
    "        {\n",
    "            \"FeatureGroupName\": customers_feature_group_name,\n",
    "            \"RecordIdentifiersValueAsString\": [\"573291\", \"109382\", \"828400\", \"124013\"],\n",
    "        },\n",
    "        {\n",
    "            \"FeatureGroupName\": orders_feature_group_name,\n",
    "            \"RecordIdentifiersValueAsString\": [\"573291\", \"109382\", \"828400\", \"124013\"],\n",
    "        },\n",
    "    ]\n",
    ")"
   ]
  },
  {
   "cell_type": "code",
   "execution_count": null,
   "metadata": {},
   "outputs": [],
   "source": [
    "all_records"
   ]
  },
  {
   "cell_type": "markdown",
   "metadata": {},
   "source": [
    "### Add features to a feature group\n",
    "\n",
    "If we want to update a FeatureGroup that has done the data ingestion, we can use the `UpdateFeatureGroup` API and then re-ingest data by using the updated dataset."
   ]
  },
  {
   "cell_type": "code",
   "execution_count": null,
   "metadata": {},
   "outputs": [],
   "source": [
    "from sagemaker.feature_store.feature_definition import StringFeatureDefinition\n",
    "\n",
    "customers_feature_group.update(\n",
    "    feature_additions=[StringFeatureDefinition(\"email\"), StringFeatureDefinition(\"name\")]\n",
    ")"
   ]
  },
  {
   "cell_type": "markdown",
   "metadata": {},
   "source": [
    "Verify the FeatureGroup has been updated successfully or not."
   ]
  },
  {
   "cell_type": "code",
   "execution_count": null,
   "metadata": {},
   "outputs": [],
   "source": [
    "def check_last_update_status(feature_group):\n",
    "    last_update_status = feature_group.describe().get(\"LastUpdateStatus\")[\"Status\"]\n",
    "    while last_update_status == \"InProgress\":\n",
    "        print(\"Waiting for FeatureGroup to be updated\")\n",
    "        time.sleep(5)\n",
    "        last_update_status = feature_group.describe().get(\"LastUpdateStatus\")\n",
    "    if last_update_status == \"Successful\":\n",
    "        print(f\"FeatureGroup {feature_group.name} successfully updated.\")\n",
    "    else:\n",
    "        print(\n",
    "            f\"FeatureGroup {feature_group.name} updated failed. The LastUpdateStatus is\"\n",
    "            + str(last_update_status)\n",
    "        )\n",
    "\n",
    "\n",
    "check_last_update_status(customers_feature_group)"
   ]
  },
  {
   "cell_type": "markdown",
   "metadata": {},
   "source": [
    "Inspect the new dataset."
   ]
  },
  {
   "cell_type": "code",
   "execution_count": null,
   "metadata": {},
   "outputs": [],
   "source": [
    "customer_data_updated = pd.read_csv(\"data/feature_store_introduction_customer_updated.csv\")"
   ]
  },
  {
   "cell_type": "code",
   "execution_count": null,
   "metadata": {},
   "outputs": [],
   "source": [
    "customer_data_updated.head()"
   ]
  },
  {
   "cell_type": "markdown",
   "metadata": {},
   "source": [
    "Append `EventTime` feature to your data frame again."
   ]
  },
  {
   "cell_type": "code",
   "execution_count": null,
   "metadata": {},
   "outputs": [],
   "source": [
    "customer_data_updated[\"EventTime\"] = pd.Series(\n",
    "    [current_time_sec] * len(customer_data), dtype=\"float64\"\n",
    ")"
   ]
  },
  {
   "cell_type": "markdown",
   "metadata": {},
   "source": [
    "Ingest the new dataset."
   ]
  },
  {
   "cell_type": "code",
   "execution_count": null,
   "metadata": {},
   "outputs": [],
   "source": [
    "customers_feature_group.ingest(data_frame=customer_data_updated, max_workers=3, wait=True)"
   ]
  },
  {
   "cell_type": "markdown",
   "metadata": {},
   "source": [
    "Use `batch_get_record` again to check that all updated data has been ingested into `customers_feature_group` by providing customer IDs."
   ]
  },
  {
   "cell_type": "code",
   "execution_count": null,
   "metadata": {},
   "outputs": [],
   "source": [
    "updated_customers_records = sagemaker_session.boto_session.client(\n",
    "    \"sagemaker-featurestore-runtime\", region_name=region\n",
    ").batch_get_record(\n",
    "    Identifiers=[\n",
    "        {\n",
    "            \"FeatureGroupName\": customers_feature_group_name,\n",
    "            \"RecordIdentifiersValueAsString\": [\"573291\", \"109382\", \"828400\", \"124013\"],\n",
    "        }\n",
    "    ]\n",
    ")"
   ]
  },
  {
   "cell_type": "code",
   "execution_count": null,
   "metadata": {},
   "outputs": [],
   "source": [
    "updated_customers_records"
   ]
  },
  {
   "cell_type": "markdown",
   "metadata": {},
   "source": [
    "### Clean up\n",
    "Here we remove the Feature Groups we created. "
   ]
  },
  {
   "cell_type": "code",
   "execution_count": null,
   "metadata": {},
   "outputs": [],
   "source": [
    "customers_feature_group.delete()\n",
    "orders_feature_group.delete()"
   ]
  },
  {
   "cell_type": "markdown",
   "metadata": {},
   "source": [
    "### Next steps"
   ]
  },
  {
   "cell_type": "markdown",
   "metadata": {},
   "source": [
    "In this notebook you learned how to quickly get started with Feature Store and now know how to create feature groups, and ingest data into them.\n",
    "\n",
    "For an advanced example on how to use Feature Store for a Fraud Detection use-case, see [Fraud Detection with Feature Store](https://sagemaker-examples.readthedocs.io/en/latest/sagemaker-featurestore/sagemaker_featurestore_fraud_detection_python_sdk.html).\n",
    "\n",
    "For detailed information about Feature Store, see the [Developer Guide](https://docs.aws.amazon.com/sagemaker/latest/dg/feature-store.html).\n"
   ]
  },
  {
   "cell_type": "markdown",
   "metadata": {},
   "source": [
    "### Programmers note"
   ]
  },
  {
   "cell_type": "markdown",
   "metadata": {},
   "source": [
    "In this notebook we used a variety of different API calls. Most of them are accessible through the Python SDK, however some only exist within `boto3`. You can invoke the Python SDK API calls directly on your Feature Store objects, whereas to invoke API calls that exist within `boto3`, you must first access a boto client through your boto and sagemaker sessions: e.g. `sagemaker_session.boto_session.client()`.\n",
    "\n",
    "Below we list API calls used in this notebook that exist within the Python SDK and ones that exist in `boto3` for your reference. \n",
    "\n",
    "#### Python SDK API Calls\n",
    "* `describe()`\n",
    "* `ingest()`\n",
    "* `delete()`\n",
    "* `create()`\n",
    "* `load_feature_definitions()`\n",
    "* `update()`\n",
    "* `update_feature_metadata()`\n",
    "* `describe_feature_metadata()`\n",
    "\n",
    "#### Boto3 API Calls\n",
    "* `list_feature_groups()`\n",
    "* `get_record()`\n",
    "* `batch_get_record()`\n",
    "* `search()`\n"
   ]
  }
 ],
 "metadata": {
  "instance_type": "ml.t3.medium",
  "kernelspec": {
   "display_name": "aws",
   "language": "python",
   "name": "aws"
  },
  "language_info": {
   "codemirror_mode": {
    "name": "ipython",
    "version": 3
   },
   "file_extension": ".py",
   "mimetype": "text/x-python",
   "name": "python",
   "nbconvert_exporter": "python",
   "pygments_lexer": "ipython3",
   "version": "3.8.12"
  }
 },
 "nbformat": 4,
 "nbformat_minor": 4
}
